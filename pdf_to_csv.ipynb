{
 "cells": [
  {
   "cell_type": "code",
   "execution_count": null,
   "id": "df9a523c",
   "metadata": {},
   "outputs": [],
   "source": []
  },
  {
   "cell_type": "code",
   "execution_count": null,
   "id": "4dbe4703",
   "metadata": {},
   "outputs": [],
   "source": []
  },
  {
   "cell_type": "code",
   "execution_count": null,
   "id": "db691ad5",
   "metadata": {},
   "outputs": [],
   "source": [
    "pip install tabula-py"
   ]
  },
  {
   "cell_type": "code",
   "execution_count": 9,
   "id": "934c8c29",
   "metadata": {},
   "outputs": [
    {
     "name": "stdout",
     "output_type": "stream",
     "text": [
      "CSV file created successfully.\n"
     ]
    }
   ],
   "source": [
    "#https://mcc.nic.in/WebinfoUG/File/GetFile//?FileId=4695&LangId=P \n",
    "    \n",
    "import tabula\n",
    "import pandas as pd\n",
    "\n",
    "# Set the path to your PDF file\n",
    "pdf_file = \"E:\\Data_Table.pdf\"\n",
    "\n",
    "# Specify the page number(s) or range to extract data from\n",
    "pages = \"all\"  # Extract data from all pages\n",
    "\n",
    "# Convert PDF into a DataFrame\n",
    "df = tabula.read_pdf(pdf_file, pages=pages, pandas_options={\"header\": None})\n",
    "\n",
    "# Concatenate all DataFrames into a single DataFrame\n",
    "combined_df = pd.concat(df)\n",
    "\n",
    "# Convert DataFrame to CSV\n",
    "csv_file = \"E:\\output_file.csv\"\n",
    "combined_df.to_csv(csv_file, index=False)\n",
    "\n",
    "print(\"CSV file created successfully.\")\n"
   ]
  }
 ],
 "metadata": {
  "kernelspec": {
   "display_name": "Python 3 (ipykernel)",
   "language": "python",
   "name": "python3"
  },
  "language_info": {
   "codemirror_mode": {
    "name": "ipython",
    "version": 3
   },
   "file_extension": ".py",
   "mimetype": "text/x-python",
   "name": "python",
   "nbconvert_exporter": "python",
   "pygments_lexer": "ipython3",
   "version": "3.9.7"
  }
 },
 "nbformat": 4,
 "nbformat_minor": 5
}
